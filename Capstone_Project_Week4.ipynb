{
 "cells": [
  {
   "cell_type": "markdown",
   "metadata": {},
   "source": [
    "# The Battle of Neighborhoods(Week1)\n",
    "**Meeenakshi Dubey**"
   ]
  },
  {
   "cell_type": "markdown",
   "metadata": {},
   "source": [
    "## <span style=\"color: steelblue;\"> Where to live in Canberra?</span>"
   ]
  },
  {
   "cell_type": "markdown",
   "metadata": {},
   "source": [
    " "
   ]
  },
  {
   "cell_type": "markdown",
   "metadata": {},
   "source": [
    "### <span style=\"color: slategrey;\"> Introduction </span>"
   ]
  },
  {
   "cell_type": "markdown",
   "metadata": {},
   "source": [
    "Chossing a place to live is a common and stressful problem faced by individuals when they move. The problem becomes a nightmare when you have to move to a city like Canberra, whose house rental prices are increasing every minute[1][2]. Moreover, the situation is worsened by the poor transport system in Canberra[3] coupled with its explosive growth[4]. \n",
    "\n",
    "In this dire situation it becomes even more important and stressful situation for an individual to objectively decide the suburb or area to settle in Canberra. Hence to tackle this problem we are developing a tool to aid individuals in making an informed choice as per the personal preferences based on the location data given by the FourSquare API[5] and rent data by SQM Research[6]. We look to find out the place most suitable for an individual based on preferences about a location and the expected renting cost. \n",
    "\n",
    "The case presented in this project is a very frequently occuring phenomenon for many working individuals and their respective workplaces. Hence the project is of great interest to them to sort out the relocation situations amicably and in an informed manner. For this project, we are assuming a married couple has moved to Canberra with their 14 year old daughter. The couple needs to figure out a place that gives resonable commute to their workplace along with a location that is suitable for development of their daughter. The project focuses on a specific case by assuming preferences of the couple, however the project can be easily adapted to suit various different situations  encountered by changing the prefferences about the location for a different usecase."
   ]
  },
  {
   "cell_type": "markdown",
   "metadata": {},
   "source": [
    "### <span style=\"color: slategrey;\"> Data </span>"
   ]
  },
  {
   "cell_type": "markdown",
   "metadata": {},
   "source": [
    "For this project we will use, four different sources of data:-\n",
    "1. Suburbs of Canberra with their postcodes[7]\n",
    "2. GeoCoder API extracted geo locations of suburbs in Canberra[8]\n",
    "3. FourSquare API extracted venues by Categories for suburbs in Canberra[5]\n",
    "4. Canberra house rental prices by post code[6]\n",
    "\n",
    "We first extract the all the suburbs of Canberra along with their postalcodes by web scraping the data given at [7]. After collecting postal codes of all suburbs we use the GeoCoder API[8]t to get the latitiude and longitude for each suburb in Canberra. The data from the two aforementioned steps are combined to form a single table with suburb names, postal code and geo locations. Next, we traverse through the table to extract a list of all venues near the suburbs one by one and store in this in a new table with name and category of the venue combined with the name of the suburb. \n",
    "\n",
    "In our next step we aggregate the venues based on the suburbs to create one row for each suburb that list the frequqncy of all different venue categories. Finally, with help of SQM Research[6] data we combine the frequency of venue category data in a suburb with the avergae rent for an unit in the specific area. We now use this aggregated data to make decisions and rank areas as per individual's preferences. "
   ]
  },
  {
   "cell_type": "markdown",
   "metadata": {},
   "source": [
    "1. https://www.allhomes.com.au/news/canberra-rents-continue-to-rise-still-most-expensive-capital-city-to-rent-a-house-817535/\n",
    "2. https://www.canberratimes.com.au/story/6252699/why-has-renting-become-so-expensive-in-the-capital/\n",
    "3. https://www.canberratimes.com.au/story/6434518/satisfaction-with-transport-network-down/\n",
    "4. https://www.canberratimes.com.au/story/5992052/canberra-population-sprints-past-420000-new-figures-show/\n",
    "5. https://developer.foursquare.com/\n",
    "6. https://sqmresearch.com.au/weekly-rents.php?\n",
    "7. https://worldpostalcode.com/australia/australian-capital-territory/canberra\n",
    "8. https://geocoder.readthedocs.io/\n"
   ]
  }
 ],
 "metadata": {
  "kernelspec": {
   "display_name": "Python 3",
   "language": "python",
   "name": "python3"
  },
  "language_info": {
   "codemirror_mode": {
    "name": "ipython",
    "version": 3
   },
   "file_extension": ".py",
   "mimetype": "text/x-python",
   "name": "python",
   "nbconvert_exporter": "python",
   "pygments_lexer": "ipython3",
   "version": "3.7.3"
  }
 },
 "nbformat": 4,
 "nbformat_minor": 4
}
